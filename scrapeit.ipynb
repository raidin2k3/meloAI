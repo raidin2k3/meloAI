{
 "cells": [
  {
   "cell_type": "code",
   "execution_count": 6,
   "metadata": {},
   "outputs": [
    {
     "name": "stdout",
     "output_type": "stream",
     "text": [
      "Requirement already satisfied: praw in c:\\users\\lester greeks\\appdata\\local\\programs\\python\\python312\\lib\\site-packages (7.7.1)\n",
      "Requirement already satisfied: pandas in c:\\users\\lester greeks\\appdata\\local\\programs\\python\\python312\\lib\\site-packages (2.2.3)\n",
      "Requirement already satisfied: prawcore<3,>=2.1 in c:\\users\\lester greeks\\appdata\\local\\programs\\python\\python312\\lib\\site-packages (from praw) (2.4.0)\n",
      "Requirement already satisfied: update-checker>=0.18 in c:\\users\\lester greeks\\appdata\\local\\programs\\python\\python312\\lib\\site-packages (from praw) (0.18.0)\n",
      "Requirement already satisfied: websocket-client>=0.54.0 in c:\\users\\lester greeks\\appdata\\local\\programs\\python\\python312\\lib\\site-packages (from praw) (1.8.0)\n",
      "Requirement already satisfied: numpy>=1.26.0 in c:\\users\\lester greeks\\appdata\\local\\programs\\python\\python312\\lib\\site-packages (from pandas) (2.0.0)\n",
      "Requirement already satisfied: python-dateutil>=2.8.2 in c:\\users\\lester greeks\\appdata\\roaming\\python\\python312\\site-packages (from pandas) (2.9.0.post0)\n",
      "Requirement already satisfied: pytz>=2020.1 in c:\\users\\lester greeks\\appdata\\local\\programs\\python\\python312\\lib\\site-packages (from pandas) (2024.1)\n",
      "Requirement already satisfied: tzdata>=2022.7 in c:\\users\\lester greeks\\appdata\\local\\programs\\python\\python312\\lib\\site-packages (from pandas) (2024.1)\n",
      "Requirement already satisfied: requests<3.0,>=2.6.0 in c:\\users\\lester greeks\\appdata\\local\\programs\\python\\python312\\lib\\site-packages (from prawcore<3,>=2.1->praw) (2.32.3)\n",
      "Requirement already satisfied: six>=1.5 in c:\\users\\lester greeks\\appdata\\roaming\\python\\python312\\site-packages (from python-dateutil>=2.8.2->pandas) (1.16.0)\n",
      "Requirement already satisfied: charset-normalizer<4,>=2 in c:\\users\\lester greeks\\appdata\\local\\programs\\python\\python312\\lib\\site-packages (from requests<3.0,>=2.6.0->prawcore<3,>=2.1->praw) (3.3.2)\n",
      "Requirement already satisfied: idna<4,>=2.5 in c:\\users\\lester greeks\\appdata\\local\\programs\\python\\python312\\lib\\site-packages (from requests<3.0,>=2.6.0->prawcore<3,>=2.1->praw) (3.7)\n",
      "Requirement already satisfied: urllib3<3,>=1.21.1 in c:\\users\\lester greeks\\appdata\\local\\programs\\python\\python312\\lib\\site-packages (from requests<3.0,>=2.6.0->prawcore<3,>=2.1->praw) (2.2.2)\n",
      "Requirement already satisfied: certifi>=2017.4.17 in c:\\users\\lester greeks\\appdata\\local\\programs\\python\\python312\\lib\\site-packages (from requests<3.0,>=2.6.0->prawcore<3,>=2.1->praw) (2024.6.2)\n",
      "Note: you may need to restart the kernel to use updated packages.\n"
     ]
    },
    {
     "name": "stderr",
     "output_type": "stream",
     "text": [
      "\n",
      "[notice] A new release of pip is available: 24.1.1 -> 24.2\n",
      "[notice] To update, run: python.exe -m pip install --upgrade pip\n"
     ]
    }
   ],
   "source": [
    "#installing libs\n",
    "%pip install praw pandas"
   ]
  },
  {
   "cell_type": "code",
   "execution_count": 1,
   "metadata": {},
   "outputs": [],
   "source": [
    "#importing required libs for scraping\n",
    "import praw\n",
    "import pandas as pd\n",
    "from praw.models import MoreComments\n",
    "import time\n",
    "from datetime import datetime, timezone"
   ]
  },
  {
   "cell_type": "code",
   "execution_count": 2,
   "metadata": {},
   "outputs": [],
   "source": [
    "#reddit creds\n",
    "reddit = praw.Reddit(\n",
    "    user_agent=\"Comment Extraction (by /u/lestergreeks)\",\n",
    "    client_id=\"YiK4KHJXxneFv0IiV8aOhg\", \n",
    "    client_secret=\"8GfGLUx8E62B3sBUwJcie43RDBQm7A\"\n",
    ")"
   ]
  },
  {
   "cell_type": "code",
   "execution_count": 3,
   "metadata": {},
   "outputs": [],
   "source": [
    "#using a reddit post\n",
    "#https://www.reddit.com/r/IndiaSpeaks/comments/1fr7tyb/scrap_dealer_gifts_multiple_iphones_to_son_for/ - apple test\n",
    "url = \"https://www.reddit.com/r/IndiaSpeaks/comments/1fqhbsz/youtuber_ranveer_allahbadias_youtube_channel_got/\"\n",
    "submission = reddit.submission(url=url)"
   ]
  },
  {
   "cell_type": "code",
   "execution_count": 4,
   "metadata": {},
   "outputs": [],
   "source": [
    "#getting all comments from a post\n",
    "submission.comments.replace_more(limit=None)\n",
    "posts = []\n",
    "for top_level_comment in submission.comments.list():\n",
    "    if isinstance(top_level_comment, MoreComments):\n",
    "        continue\n",
    "    if top_level_comment.author and \"bot\" not in top_level_comment.author.name.lower() and not top_level_comment.stickied:\n",
    "        posts.append(top_level_comment.body)\n",
    "posts = pd.DataFrame(posts,columns=[\"body\"])\n",
    "indexNames = posts[(posts.body == '[removed]') | (posts.body == '[deleted]')].index\n",
    "posts.drop(indexNames, inplace=True)"
   ]
  },
  {
   "cell_type": "code",
   "execution_count": 5,
   "metadata": {},
   "outputs": [
    {
     "data": {
      "text/html": [
       "<div>\n",
       "<style scoped>\n",
       "    .dataframe tbody tr th:only-of-type {\n",
       "        vertical-align: middle;\n",
       "    }\n",
       "\n",
       "    .dataframe tbody tr th {\n",
       "        vertical-align: top;\n",
       "    }\n",
       "\n",
       "    .dataframe thead th {\n",
       "        text-align: right;\n",
       "    }\n",
       "</style>\n",
       "<table border=\"1\" class=\"dataframe\">\n",
       "  <thead>\n",
       "    <tr style=\"text-align: right;\">\n",
       "      <th></th>\n",
       "      <th>body</th>\n",
       "    </tr>\n",
       "  </thead>\n",
       "  <tbody>\n",
       "    <tr>\n",
       "      <th>0</th>\n",
       "      <td>I heard both his passwords where 1234567@ 💀</td>\n",
       "    </tr>\n",
       "    <tr>\n",
       "      <th>1</th>\n",
       "      <td>Hogya recover</td>\n",
       "    </tr>\n",
       "    <tr>\n",
       "      <th>2</th>\n",
       "      <td>It was the hackers who showed him the next doo...</td>\n",
       "    </tr>\n",
       "    <tr>\n",
       "      <th>3</th>\n",
       "      <td>What this basically tells is that:\\n\\n\"Life is...</td>\n",
       "    </tr>\n",
       "    <tr>\n",
       "      <th>4</th>\n",
       "      <td>This is the exact reason why India should deve...</td>\n",
       "    </tr>\n",
       "    <tr>\n",
       "      <th>...</th>\n",
       "      <td>...</td>\n",
       "    </tr>\n",
       "    <tr>\n",
       "      <th>67</th>\n",
       "      <td>YouTube has decades worth of data plus backed ...</td>\n",
       "    </tr>\n",
       "    <tr>\n",
       "      <th>68</th>\n",
       "      <td>Yes they can join. But Youtube algo recommends...</td>\n",
       "    </tr>\n",
       "    <tr>\n",
       "      <th>69</th>\n",
       "      <td>1. This is completely unrelated to Ranbir's ch...</td>\n",
       "    </tr>\n",
       "    <tr>\n",
       "      <th>70</th>\n",
       "      <td>Lmao yoh are placing to much importance on tec...</td>\n",
       "    </tr>\n",
       "    <tr>\n",
       "      <th>71</th>\n",
       "      <td>No one was livestreaming on YouTube when twitc...</td>\n",
       "    </tr>\n",
       "  </tbody>\n",
       "</table>\n",
       "<p>72 rows × 1 columns</p>\n",
       "</div>"
      ],
      "text/plain": [
       "                                                 body\n",
       "0         I heard both his passwords where 1234567@ 💀\n",
       "1                                       Hogya recover\n",
       "2   It was the hackers who showed him the next doo...\n",
       "3   What this basically tells is that:\\n\\n\"Life is...\n",
       "4   This is the exact reason why India should deve...\n",
       "..                                                ...\n",
       "67  YouTube has decades worth of data plus backed ...\n",
       "68  Yes they can join. But Youtube algo recommends...\n",
       "69  1. This is completely unrelated to Ranbir's ch...\n",
       "70  Lmao yoh are placing to much importance on tec...\n",
       "71  No one was livestreaming on YouTube when twitc...\n",
       "\n",
       "[72 rows x 1 columns]"
      ]
     },
     "execution_count": 5,
     "metadata": {},
     "output_type": "execute_result"
    }
   ],
   "source": [
    "posts"
   ]
  },
  {
   "cell_type": "code",
   "execution_count": 33,
   "metadata": {},
   "outputs": [],
   "source": [
    "#extracting all comments from top10 posts of a subreddit\n",
    "subreddit = reddit.subreddit('technews')\n",
    "\n",
    "all_comments = pd.DataFrame()\n",
    "\n",
    "    "
   ]
  },
  {
   "cell_type": "code",
   "execution_count": 62,
   "metadata": {},
   "outputs": [],
   "source": [
    "def extract_comments(submission, limit = 10):\n",
    "    posts = []\n",
    "    submission.comments.replace_more(limit=None)\n",
    "    count = 0\n",
    "    for top_level_comment in submission.comments.list():\n",
    "        if isinstance(top_level_comment, MoreComments):\n",
    "            continue\n",
    "        if (top_level_comment.author and \"bot\" not in top_level_comment.author.name.lower() \n",
    "            and not top_level_comment.stickied):\n",
    "            posts.append(top_level_comment.body.encode('utf-8', 'ignore').decode('utf-8'))\n",
    "            count += 1\n",
    "            \n",
    "            # Break if we have reached the limit\n",
    "            if count >= limit:\n",
    "                break\n",
    "    \n",
    "    return posts\n"
   ]
  },
  {
   "cell_type": "code",
   "execution_count": 63,
   "metadata": {},
   "outputs": [],
   "source": [
    "def process_posts():\n",
    "    global all_comments\n",
    "    attempt = 0\n",
    "    for submission in subreddit.rising(limit=10):\n",
    "        try:\n",
    "            print(f\"Processing post: {submission.title}\")\n",
    "            posts = extract_comments(submission, limit=10)\n",
    "            posts_df = pd.DataFrame(posts, columns=[\"body\"])\n",
    "            indexNames = posts_df[(posts_df.body == '[removed]') | (posts_df.body == '[deleted]')].index\n",
    "            posts_df.drop(indexNames, inplace=True)\n",
    "            posts_df['post_title'] = submission.title\n",
    "            posts_df['post_time'] = datetime.fromtimestamp(submission.created_utc, tz=timezone.utc).strftime('%Y-%m-%d %H:%M:%S')\n",
    "\n",
    "            all_comments = pd.concat([all_comments, posts_df], ignore_index=True)\n",
    "        \n",
    "        except praw.exceptions.RedditAPIException as e:\n",
    "            if \"RATELIMIT\" in str(e):\n",
    "                attempt += 1\n",
    "                sleep_time = 120 * attempt\n",
    "                print(f\"Rate limit hit. Sleeping for {sleep_time} seconds. Error: {e}\")\n",
    "                time.sleep(sleep_time) \n",
    "                continue\n",
    "            else:\n",
    "                print(f\"Encountered an error: {e}\")\n",
    "                continue\n",
    "    \n",
    "        time.sleep(60)\n"
   ]
  },
  {
   "cell_type": "code",
   "execution_count": null,
   "metadata": {},
   "outputs": [
    {
     "name": "stdout",
     "output_type": "stream",
     "text": [
      "Processing post: The Optimus robots at Tesla’s Cybercab event were humans in disguise\n"
     ]
    }
   ],
   "source": [
    "process_posts()"
   ]
  },
  {
   "cell_type": "code",
   "execution_count": 61,
   "metadata": {},
   "outputs": [
    {
     "data": {
      "text/html": [
       "<div>\n",
       "<style scoped>\n",
       "    .dataframe tbody tr th:only-of-type {\n",
       "        vertical-align: middle;\n",
       "    }\n",
       "\n",
       "    .dataframe tbody tr th {\n",
       "        vertical-align: top;\n",
       "    }\n",
       "\n",
       "    .dataframe thead th {\n",
       "        text-align: right;\n",
       "    }\n",
       "</style>\n",
       "<table border=\"1\" class=\"dataframe\">\n",
       "  <thead>\n",
       "    <tr style=\"text-align: right;\">\n",
       "      <th></th>\n",
       "      <th>body</th>\n",
       "      <th>post_title</th>\n",
       "      <th>post_time</th>\n",
       "    </tr>\n",
       "  </thead>\n",
       "  <tbody>\n",
       "    <tr>\n",
       "      <th>0</th>\n",
       "      <td>I was admittedly a bit uncomfortable when my A...</td>\n",
       "      <td>The Optimus robots at Tesla’s Cybercab event w...</td>\n",
       "      <td>2024-10-13 18:08:39</td>\n",
       "    </tr>\n",
       "    <tr>\n",
       "      <th>1</th>\n",
       "      <td>The Mechanical Turk, classic.</td>\n",
       "      <td>The Optimus robots at Tesla’s Cybercab event w...</td>\n",
       "      <td>2024-10-13 18:08:39</td>\n",
       "    </tr>\n",
       "    <tr>\n",
       "      <th>2</th>\n",
       "      <td>Teleoperated, so not quite Russian robots.</td>\n",
       "      <td>The Optimus robots at Tesla’s Cybercab event w...</td>\n",
       "      <td>2024-10-13 18:08:39</td>\n",
       "    </tr>\n",
       "    <tr>\n",
       "      <th>3</th>\n",
       "      <td>I could see a transition phase where teleworke...</td>\n",
       "      <td>The Optimus robots at Tesla’s Cybercab event w...</td>\n",
       "      <td>2024-10-13 18:08:39</td>\n",
       "    </tr>\n",
       "    <tr>\n",
       "      <th>4</th>\n",
       "      <td>These robotics aren’t even particularly ground...</td>\n",
       "      <td>The Optimus robots at Tesla’s Cybercab event w...</td>\n",
       "      <td>2024-10-13 18:08:39</td>\n",
       "    </tr>\n",
       "    <tr>\n",
       "      <th>...</th>\n",
       "      <td>...</td>\n",
       "      <td>...</td>\n",
       "      <td>...</td>\n",
       "    </tr>\n",
       "    <tr>\n",
       "      <th>1128</th>\n",
       "      <td>Chinese gang = CCP</td>\n",
       "      <td>OpenAI says Chinese gang tried to phish its staff</td>\n",
       "      <td>2024-10-12 01:31:55</td>\n",
       "    </tr>\n",
       "    <tr>\n",
       "      <th>1129</th>\n",
       "      <td>Of course, they're a very high profile, high p...</td>\n",
       "      <td>OpenAI says Chinese gang tried to phish its staff</td>\n",
       "      <td>2024-10-12 01:31:55</td>\n",
       "    </tr>\n",
       "    <tr>\n",
       "      <th>1130</th>\n",
       "      <td>Of course, only this time they noticed it</td>\n",
       "      <td>OpenAI says Chinese gang tried to phish its staff</td>\n",
       "      <td>2024-10-12 01:31:55</td>\n",
       "    </tr>\n",
       "    <tr>\n",
       "      <th>1131</th>\n",
       "      <td>And they did the same to every other company o...</td>\n",
       "      <td>OpenAI says Chinese gang tried to phish its staff</td>\n",
       "      <td>2024-10-12 01:31:55</td>\n",
       "    </tr>\n",
       "    <tr>\n",
       "      <th>1132</th>\n",
       "      <td>??? And?? Whole world gets few phish calls a day.</td>\n",
       "      <td>OpenAI says Chinese gang tried to phish its staff</td>\n",
       "      <td>2024-10-12 01:31:55</td>\n",
       "    </tr>\n",
       "  </tbody>\n",
       "</table>\n",
       "<p>1133 rows × 3 columns</p>\n",
       "</div>"
      ],
      "text/plain": [
       "                                                   body  \\\n",
       "0     I was admittedly a bit uncomfortable when my A...   \n",
       "1                         The Mechanical Turk, classic.   \n",
       "2            Teleoperated, so not quite Russian robots.   \n",
       "3     I could see a transition phase where teleworke...   \n",
       "4     These robotics aren’t even particularly ground...   \n",
       "...                                                 ...   \n",
       "1128                                 Chinese gang = CCP   \n",
       "1129  Of course, they're a very high profile, high p...   \n",
       "1130          Of course, only this time they noticed it   \n",
       "1131  And they did the same to every other company o...   \n",
       "1132  ??? And?? Whole world gets few phish calls a day.   \n",
       "\n",
       "                                             post_title            post_time  \n",
       "0     The Optimus robots at Tesla’s Cybercab event w...  2024-10-13 18:08:39  \n",
       "1     The Optimus robots at Tesla’s Cybercab event w...  2024-10-13 18:08:39  \n",
       "2     The Optimus robots at Tesla’s Cybercab event w...  2024-10-13 18:08:39  \n",
       "3     The Optimus robots at Tesla’s Cybercab event w...  2024-10-13 18:08:39  \n",
       "4     The Optimus robots at Tesla’s Cybercab event w...  2024-10-13 18:08:39  \n",
       "...                                                 ...                  ...  \n",
       "1128  OpenAI says Chinese gang tried to phish its staff  2024-10-12 01:31:55  \n",
       "1129  OpenAI says Chinese gang tried to phish its staff  2024-10-12 01:31:55  \n",
       "1130  OpenAI says Chinese gang tried to phish its staff  2024-10-12 01:31:55  \n",
       "1131  OpenAI says Chinese gang tried to phish its staff  2024-10-12 01:31:55  \n",
       "1132  OpenAI says Chinese gang tried to phish its staff  2024-10-12 01:31:55  \n",
       "\n",
       "[1133 rows x 3 columns]"
      ]
     },
     "execution_count": 61,
     "metadata": {},
     "output_type": "execute_result"
    }
   ],
   "source": [
    "all_comments"
   ]
  },
  {
   "cell_type": "code",
   "execution_count": 53,
   "metadata": {},
   "outputs": [],
   "source": [
    "all_comments.to_csv('red_data_2.csv', encoding='utf-8', index=False)"
   ]
  },
  {
   "cell_type": "code",
   "execution_count": null,
   "metadata": {},
   "outputs": [],
   "source": []
  }
 ],
 "metadata": {
  "kernelspec": {
   "display_name": "Python 3",
   "language": "python",
   "name": "python3"
  },
  "language_info": {
   "codemirror_mode": {
    "name": "ipython",
    "version": 3
   },
   "file_extension": ".py",
   "mimetype": "text/x-python",
   "name": "python",
   "nbconvert_exporter": "python",
   "pygments_lexer": "ipython3",
   "version": "3.12.4"
  }
 },
 "nbformat": 4,
 "nbformat_minor": 2
}
